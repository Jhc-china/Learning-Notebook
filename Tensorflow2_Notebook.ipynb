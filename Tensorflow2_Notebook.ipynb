{
  "nbformat": 4,
  "nbformat_minor": 0,
  "metadata": {
    "colab": {
      "name": "Tensorflow2.0 Notebook.ipynb",
      "version": "0.3.2",
      "provenance": [],
      "collapsed_sections": [
        "ygkdT5sHO2Y8",
        "ZsybWwMVPi8e",
        "5WPHZw3PPn0p",
        "TdjrjHyeQ4Xi",
        "cu9PB0L0Rq3C",
        "PGAvd8a2URe3",
        "s-SkarwTUYWQ",
        "VTJmmFacWKP2",
        "_olT8JaXXXEg",
        "NG8kpfk4Y0Tf"
      ],
      "toc_visible": true,
      "include_colab_link": true
    },
    "kernelspec": {
      "name": "python3",
      "display_name": "Python 3"
    }
  },
  "cells": [
    {
      "cell_type": "markdown",
      "metadata": {
        "id": "view-in-github",
        "colab_type": "text"
      },
      "source": [
        "<a href=\"https://colab.research.google.com/github/Jhc-china/Learning-Notebook/blob/master/Tensorflow2_Notebook.ipynb\" target=\"_parent\"><img src=\"https://colab.research.google.com/assets/colab-badge.svg\" alt=\"Open In Colab\"/></a>"
      ]
    },
    {
      "cell_type": "markdown",
      "metadata": {
        "id": "15T9iwM64YWT",
        "colab_type": "text"
      },
      "source": [
        "# Tensorflow 2.0\n",
        "\n",
        "该文件为Tensorflow 2.0 的学习笔记"
      ]
    },
    {
      "cell_type": "markdown",
      "metadata": {
        "id": "t5_6ZrpOOfwR",
        "colab_type": "text"
      },
      "source": [
        "## Keras\n",
        "\n",
        "在Tensorflow中Keras是用于构建和训练深度学习模型的高级API\n",
        "\n",
        "其三个优点为：\n",
        "1. 方便用户使用\n",
        "2. 模块化和可组合\n",
        "3. 易于扩展\n",
        "\n",
        "下面将介绍Tensorflow中常见的Keras模块的操作"
      ]
    },
    {
      "cell_type": "markdown",
      "metadata": {
        "id": "ygkdT5sHO2Y8",
        "colab_type": "text"
      },
      "source": [
        "### Keras模块的导入"
      ]
    },
    {
      "cell_type": "code",
      "metadata": {
        "id": "DBLotWK6hoGZ",
        "colab_type": "code",
        "colab": {
          "base_uri": "https://localhost:8080/",
          "height": 53
        },
        "outputId": "5783ead5-b673-4db8-ef3c-7b374af3763c"
      },
      "source": [
        "import tensorflow as tf\n",
        "from tensorflow.keras import layers\n",
        "print(tf.__version__)\n",
        "print(tf.keras.__version__)"
      ],
      "execution_count": 2,
      "outputs": [
        {
          "output_type": "stream",
          "text": [
            "1.14.0\n",
            "2.2.4-tf\n"
          ],
          "name": "stdout"
        }
      ]
    },
    {
      "cell_type": "markdown",
      "metadata": {
        "id": "ZsybWwMVPi8e",
        "colab_type": "text"
      },
      "source": [
        "### 构建简单模型"
      ]
    },
    {
      "cell_type": "markdown",
      "metadata": {
        "id": "5WPHZw3PPn0p",
        "colab_type": "text"
      },
      "source": [
        "#### 模型的堆叠\n",
        "\n",
        "常见的模型堆叠是层的堆叠，采用tf.keras.Sequential模型"
      ]
    },
    {
      "cell_type": "code",
      "metadata": {
        "id": "8ctxtP_XPl58",
        "colab_type": "code",
        "colab": {}
      },
      "source": [
        "model = tf.keras.Sequential()\n",
        "model.add(layers.Dense(128, activation='relu'))\n",
        "model.add(layers.Dense(256, activation='relu'))\n",
        "model.add(layers.Dense(10, activation='softmax'))\n",
        "\n",
        "# 上述步骤与下面步骤等价\n",
        "\n",
        "model = tf.keras.Sequential([\n",
        "    layers.Dense(128, activation='relu'),\n",
        "    layers.Dense(256, activation='relu'),\n",
        "    layers.Dense(10, activation='softmax')\n",
        "])"
      ],
      "execution_count": 0,
      "outputs": []
    },
    {
      "cell_type": "markdown",
      "metadata": {
        "id": "TdjrjHyeQ4Xi",
        "colab_type": "text"
      },
      "source": [
        "#### 模型每一层的配置\n",
        "\n",
        "tf.keras.layers中每一层的配置常见的有：\n",
        "1. activation：设置层的激活函数。此参数由内置函数的名称指定，或指定为可调用对象。默认情况下，系统不会应用任何激活函数\n",
        "2. kernel_initializer和bias_initializer：创建层权重（核和偏差）的初始化方案。此参数是一个名称或可调用对象，默认为 \"Glorot uniform\" 初始化器\n",
        "3. kernel_regularizer和bias_regularizer：应用层权重（核和偏差）的正则化方案，例如 L1 或 L2 正则化。默认情况下，系统不会应用正则化函数"
      ]
    },
    {
      "cell_type": "code",
      "metadata": {
        "id": "2_G02aNMRc-S",
        "colab_type": "code",
        "colab": {
          "base_uri": "https://localhost:8080/",
          "height": 35
        },
        "outputId": "e8810d4c-0429-441b-cafb-cb4cbbe2f07a"
      },
      "source": [
        "# 例如可以像下面进行配置\n",
        "layers.Dense(32, activation='sigmoid')\n",
        "layers.Dense(32, activation=tf.sigmoid)\n",
        "layers.Dense(32, kernel_initializer='orthogonal')\n",
        "layers.Dense(32, kernel_initializer=tf.keras.initializers.glorot_normal)\n",
        "layers.Dense(32, kernel_regularizer=tf.keras.regularizers.l2(0.01))\n",
        "layers.Dense(32, kernel_regularizer=tf.keras.regularizers.l1(0.01))"
      ],
      "execution_count": 11,
      "outputs": [
        {
          "output_type": "execute_result",
          "data": {
            "text/plain": [
              "<tensorflow.python.keras.layers.core.Dense at 0x7f89e921bb70>"
            ]
          },
          "metadata": {
            "tags": []
          },
          "execution_count": 11
        }
      ]
    },
    {
      "cell_type": "markdown",
      "metadata": {
        "id": "cu9PB0L0Rq3C",
        "colab_type": "text"
      },
      "source": [
        "### 训练和评估模型\n",
        "\n",
        "模型构造好后，我们可以对模型进行配置，主要使用model的compile方法"
      ]
    },
    {
      "cell_type": "markdown",
      "metadata": {
        "id": "PGAvd8a2URe3",
        "colab_type": "text"
      },
      "source": [
        "#### 模型配置\n",
        "\n",
        "在model具体的build后者fit输入相关数据之前，我们可以查看模型的具体每层的形状，调用model.summary()方法即可\n",
        "\n",
        "不过要注意的是，必须先指定好输入层的input_shape才行"
      ]
    },
    {
      "cell_type": "code",
      "metadata": {
        "id": "4Coffl0_Trfx",
        "colab_type": "code",
        "colab": {}
      },
      "source": [
        "model = tf.keras.Sequential()\n",
        "model.add(layers.Dense(32, activation='relu'))\n",
        "model.add(layers.Dense(32, activation='relu'))\n",
        "model.add(layers.Dense(10, activation='softmax'))\n",
        "model.compile(optimizer=tf.keras.optimizers.Adam(0.001),\n",
        "             loss=tf.keras.losses.categorical_crossentropy,\n",
        "             metrics=[tf.keras.metrics.categorical_accuracy])"
      ],
      "execution_count": 0,
      "outputs": []
    },
    {
      "cell_type": "markdown",
      "metadata": {
        "id": "s-SkarwTUYWQ",
        "colab_type": "text"
      },
      "source": [
        "#### 可输入Numpy数据\n",
        "\n",
        "keras构造的model模型，可以直接通过numpy的数据类型进行训练\n",
        "\n",
        "np.random.random将生成在[0,1)的半开半闭取件内的浮点数，与random.rand不同的是，后者生成[0,1]区间的小数\n",
        "\n",
        "输入参数为生成np array的size\n",
        "\n",
        "下面是一个简单的numpy数据输入训练过程，用于训练的x数据为1000组每组长度为72的随机数据，真值y为对应1000组长度为10的随机数据"
      ]
    },
    {
      "cell_type": "code",
      "metadata": {
        "id": "x30lnLrpUhw0",
        "colab_type": "code",
        "colab": {
          "base_uri": "https://localhost:8080/",
          "height": 413
        },
        "outputId": "4ac4c390-52c1-49e0-b138-c104aab478fa"
      },
      "source": [
        "import numpy as np\n",
        "\n",
        "train_x = np.random.random((1000, 72))\n",
        "train_y = np.random.random((1000, 10))\n",
        "\n",
        "val_x = np.random.random((200, 72))\n",
        "val_y = np.random.random((200, 10))\n",
        "\n",
        "model.fit(train_x, train_y, epochs=10, batch_size=100,\n",
        "          validation_data=(val_x, val_y))"
      ],
      "execution_count": 16,
      "outputs": [
        {
          "output_type": "stream",
          "text": [
            "Train on 1000 samples, validate on 200 samples\n",
            "Epoch 1/10\n",
            "1000/1000 [==============================] - 0s 27us/sample - loss: 195.9979 - categorical_accuracy: 0.0820 - val_loss: 210.3744 - val_categorical_accuracy: 0.1350\n",
            "Epoch 2/10\n",
            "1000/1000 [==============================] - 0s 25us/sample - loss: 220.4191 - categorical_accuracy: 0.0810 - val_loss: 235.2692 - val_categorical_accuracy: 0.0650\n",
            "Epoch 3/10\n",
            "1000/1000 [==============================] - 0s 22us/sample - loss: 245.5966 - categorical_accuracy: 0.0930 - val_loss: 261.5547 - val_categorical_accuracy: 0.1000\n",
            "Epoch 4/10\n",
            "1000/1000 [==============================] - 0s 24us/sample - loss: 272.0299 - categorical_accuracy: 0.0910 - val_loss: 288.3384 - val_categorical_accuracy: 0.1050\n",
            "Epoch 5/10\n",
            "1000/1000 [==============================] - 0s 24us/sample - loss: 300.0116 - categorical_accuracy: 0.0770 - val_loss: 317.2724 - val_categorical_accuracy: 0.1050\n",
            "Epoch 6/10\n",
            "1000/1000 [==============================] - 0s 24us/sample - loss: 328.1781 - categorical_accuracy: 0.0820 - val_loss: 345.7869 - val_categorical_accuracy: 0.1000\n",
            "Epoch 7/10\n",
            "1000/1000 [==============================] - 0s 24us/sample - loss: 358.2399 - categorical_accuracy: 0.0910 - val_loss: 377.3516 - val_categorical_accuracy: 0.1300\n",
            "Epoch 8/10\n",
            "1000/1000 [==============================] - 0s 24us/sample - loss: 389.0492 - categorical_accuracy: 0.0900 - val_loss: 407.5547 - val_categorical_accuracy: 0.0700\n",
            "Epoch 9/10\n",
            "1000/1000 [==============================] - 0s 26us/sample - loss: 419.0540 - categorical_accuracy: 0.0920 - val_loss: 438.3601 - val_categorical_accuracy: 0.0650\n",
            "Epoch 10/10\n",
            "1000/1000 [==============================] - 0s 27us/sample - loss: 451.7143 - categorical_accuracy: 0.0880 - val_loss: 472.4105 - val_categorical_accuracy: 0.1250\n"
          ],
          "name": "stdout"
        },
        {
          "output_type": "execute_result",
          "data": {
            "text/plain": [
              "<tensorflow.python.keras.callbacks.History at 0x7f89e921f400>"
            ]
          },
          "metadata": {
            "tags": []
          },
          "execution_count": 16
        }
      ]
    },
    {
      "cell_type": "markdown",
      "metadata": {
        "id": "VTJmmFacWKP2",
        "colab_type": "text"
      },
      "source": [
        "#### 可利用tf.data输入数据\n",
        "\n",
        "可利用tf.data.Dataset生成用于训练的对象，同时可以进行一些训练设置的操作"
      ]
    },
    {
      "cell_type": "code",
      "metadata": {
        "id": "-QyQTWjhWyfm",
        "colab_type": "code",
        "colab": {
          "base_uri": "https://localhost:8080/",
          "height": 395
        },
        "outputId": "0bcfb07b-b5a1-42f6-a4f6-64182d70719f"
      },
      "source": [
        "dataset = tf.data.Dataset.from_tensor_slices((train_x, train_y))\n",
        "dataset = dataset.shuffle(1000)\n",
        "dataset = dataset.batch(32)\n",
        "dataset = dataset.repeat()\n",
        "val_dataset = tf.data.Dataset.from_tensor_slices((val_x, val_y))\n",
        "val_dataset = val_dataset.batch(32)\n",
        "val_dataset = val_dataset.repeat()\n",
        "\n",
        "model.fit(dataset, epochs=10, steps_per_epoch=30,\n",
        "          validation_data=val_dataset, validation_steps=3)"
      ],
      "execution_count": 20,
      "outputs": [
        {
          "output_type": "stream",
          "text": [
            "Epoch 1/10\n",
            "30/30 [==============================] - 0s 6ms/step - loss: 226.5335 - categorical_accuracy: 0.0938 - val_loss: 173.5174 - val_categorical_accuracy: 0.0625\n",
            "Epoch 2/10\n",
            "30/30 [==============================] - 0s 2ms/step - loss: 122.1430 - categorical_accuracy: 0.1036 - val_loss: 83.2841 - val_categorical_accuracy: 0.1562\n",
            "Epoch 3/10\n",
            "30/30 [==============================] - 0s 2ms/step - loss: 69.4316 - categorical_accuracy: 0.1068 - val_loss: 109.2683 - val_categorical_accuracy: 0.0833\n",
            "Epoch 4/10\n",
            "30/30 [==============================] - 0s 2ms/step - loss: 105.1302 - categorical_accuracy: 0.1186 - val_loss: 61.0480 - val_categorical_accuracy: 0.0833\n",
            "Epoch 5/10\n",
            "30/30 [==============================] - 0s 2ms/step - loss: 82.6610 - categorical_accuracy: 0.0951 - val_loss: 59.2898 - val_categorical_accuracy: 0.0833\n",
            "Epoch 6/10\n",
            "30/30 [==============================] - 0s 2ms/step - loss: 133.1314 - categorical_accuracy: 0.0972 - val_loss: 161.4064 - val_categorical_accuracy: 0.1562\n",
            "Epoch 7/10\n",
            "30/30 [==============================] - 0s 2ms/step - loss: 149.2962 - categorical_accuracy: 0.1047 - val_loss: 93.6869 - val_categorical_accuracy: 0.1146\n",
            "Epoch 8/10\n",
            "30/30 [==============================] - 0s 2ms/step - loss: 132.8521 - categorical_accuracy: 0.1058 - val_loss: 87.3010 - val_categorical_accuracy: 0.1146\n",
            "Epoch 9/10\n",
            "30/30 [==============================] - 0s 2ms/step - loss: 97.8292 - categorical_accuracy: 0.0940 - val_loss: 175.2316 - val_categorical_accuracy: 0.0833\n",
            "Epoch 10/10\n",
            "30/30 [==============================] - 0s 2ms/step - loss: 180.1690 - categorical_accuracy: 0.1132 - val_loss: 141.9772 - val_categorical_accuracy: 0.0625\n"
          ],
          "name": "stdout"
        },
        {
          "output_type": "execute_result",
          "data": {
            "text/plain": [
              "<tensorflow.python.keras.callbacks.History at 0x7f89e1e3bf28>"
            ]
          },
          "metadata": {
            "tags": []
          },
          "execution_count": 20
        }
      ]
    },
    {
      "cell_type": "markdown",
      "metadata": {
        "id": "_olT8JaXXXEg",
        "colab_type": "text"
      },
      "source": [
        "#### 模型的评估和预测\n",
        "\n",
        "我们可以通过测试集数据对训练的模型效果进行评估，主要采用model.evaluate方法\n",
        "\n",
        "若要使用模型对数据进行结果预测，则主要采用model.predict方法"
      ]
    },
    {
      "cell_type": "code",
      "metadata": {
        "id": "myebXWZNXar_",
        "colab_type": "code",
        "colab": {
          "base_uri": "https://localhost:8080/",
          "height": 71
        },
        "outputId": "5334f907-6b31-4b29-8b79-68d409e8b351"
      },
      "source": [
        "test_x = np.random.random((1000, 72))\n",
        "test_y = np.random.random((1000, 10))\n",
        "model.evaluate(test_x, test_y, batch_size=32)  # 采用这种操作将对1000组数据逐个进行测试得到结果\n",
        "test_data = tf.data.Dataset.from_tensor_slices((test_x, test_y))\n",
        "test_data = test_data.batch(32).repeat()\n",
        "model.evaluate(test_data, steps=30)  # 采用这种操作会执行30次测试，每次测试一个batch(batch_size上面设置为32)"
      ],
      "execution_count": 21,
      "outputs": [
        {
          "output_type": "stream",
          "text": [
            "1000/1000 [==============================] - 0s 54us/sample - loss: 137.7745 - categorical_accuracy: 0.0940\n",
            "30/30 [==============================] - 0s 3ms/step - loss: 137.6307 - categorical_accuracy: 0.0948\n"
          ],
          "name": "stdout"
        },
        {
          "output_type": "execute_result",
          "data": {
            "text/plain": [
              "[137.63073806762696, 0.094791666]"
            ]
          },
          "metadata": {
            "tags": []
          },
          "execution_count": 21
        }
      ]
    },
    {
      "cell_type": "code",
      "metadata": {
        "id": "7p0Jmbe8YG5n",
        "colab_type": "code",
        "colab": {
          "base_uri": "https://localhost:8080/",
          "height": 269
        },
        "outputId": "dfa7924c-4c89-4948-95bf-5b74d1d60779"
      },
      "source": [
        "result = model.predict(test_x, batch_size=32)\n",
        "print(result)"
      ],
      "execution_count": 24,
      "outputs": [
        {
          "output_type": "stream",
          "text": [
            "[[3.78529694e-06 1.02617650e-10 2.03043868e-31 ... 9.99988794e-01\n",
            "  1.17900803e-22 5.88397207e-08]\n",
            " [5.28550800e-07 2.69229561e-12 1.73206051e-36 ... 9.99998093e-01\n",
            "  6.67561030e-26 6.05805628e-09]\n",
            " [8.38047299e-07 2.51477242e-11 6.41219771e-34 ... 9.99996185e-01\n",
            "  2.66655812e-24 2.43373464e-08]\n",
            " ...\n",
            " [2.50193489e-06 4.55364219e-11 2.14007195e-32 ... 9.99991298e-01\n",
            "  3.91845955e-23 4.61839420e-08]\n",
            " [2.62199796e-06 1.09235884e-10 1.83820835e-30 ... 9.99988437e-01\n",
            "  4.69963846e-22 7.09742238e-08]\n",
            " [9.34907575e-07 1.85427333e-11 3.66124246e-33 ... 9.99994278e-01\n",
            "  8.54075247e-24 3.30062733e-08]]\n",
            "(1000, 10)\n"
          ],
          "name": "stdout"
        }
      ]
    },
    {
      "cell_type": "markdown",
      "metadata": {
        "id": "pmIz0Mx8Ye-_",
        "colab_type": "text"
      },
      "source": [
        "### 高级模型构建"
      ]
    },
    {
      "cell_type": "markdown",
      "metadata": {
        "id": "NG8kpfk4Y0Tf",
        "colab_type": "text"
      },
      "source": [
        "#### 函数式API\n",
        "\n",
        "前面采用的tf.keras.Sequential是模型的简单堆叠，无法用来表示任意的模型，而使用Keras函数式API可以构造复杂的模型拓扑，比如：\n",
        "\n",
        "多输入模型\n",
        "\n",
        "多输出模型\n",
        "\n",
        "具有共享层的模型(同一层被调用多次)\n",
        "\n",
        "具有非序列数据流的模型(例如：残差连接)\n",
        "\n",
        "#### 使用函数式API构建的模型有以下特点：\n",
        "\n",
        "层实例可以调用并且返回张量，输入张量和输出张量用于定义 tf.keras.Model 实例，此模型的训练方式和 Sequential 模型一样"
      ]
    },
    {
      "cell_type": "code",
      "metadata": {
        "id": "kcZR74u-Yeg9",
        "colab_type": "code",
        "colab": {
          "base_uri": "https://localhost:8080/",
          "height": 215
        },
        "outputId": "fbfea79f-b2e6-46f9-8311-b096eb5d78e1"
      },
      "source": [
        "input_x = tf.keras.Input(shape=(72,)) # 输入层\n",
        "hidden1 = layers.Dense(32, activation='relu')(input_x)  # 连接在第一个输入层之后的第一个隐藏层\n",
        "hidden2 = layers.Dense(64, activation='relu')(hidden1)  # 连接在第一个隐藏层之后的第二个隐藏层\n",
        "pred = layers.Dense(10, activation='softmax')(hidden2)  # 连接在第二个隐藏层之后的输出预测层\n",
        "\n",
        "model = tf.keras.Model(inputs=input_x, outputs=pred)  # 可以定义tf.keras.Model实例，类似于之前用Sequential定义的模型\n",
        "model.compile(optimizer=tf.keras.optimizers.Adam(0.001),\n",
        "             loss=tf.keras.losses.categorical_crossentropy,\n",
        "             metrics=['accuracy'])\n",
        "model.fit(train_x, train_y, batch_size=32, epochs=5)"
      ],
      "execution_count": 26,
      "outputs": [
        {
          "output_type": "stream",
          "text": [
            "Epoch 1/5\n",
            "1000/1000 [==============================] - 0s 129us/sample - loss: 13.0147 - acc: 0.0980\n",
            "Epoch 2/5\n",
            "1000/1000 [==============================] - 0s 50us/sample - loss: 20.8857 - acc: 0.0950\n",
            "Epoch 3/5\n",
            "1000/1000 [==============================] - 0s 51us/sample - loss: 42.6007 - acc: 0.1050\n",
            "Epoch 4/5\n",
            "1000/1000 [==============================] - 0s 48us/sample - loss: 83.4281 - acc: 0.0980\n",
            "Epoch 5/5\n",
            "1000/1000 [==============================] - 0s 50us/sample - loss: 143.6454 - acc: 0.0950\n"
          ],
          "name": "stdout"
        },
        {
          "output_type": "execute_result",
          "data": {
            "text/plain": [
              "<tensorflow.python.keras.callbacks.History at 0x7f89dcc75da0>"
            ]
          },
          "metadata": {
            "tags": []
          },
          "execution_count": 26
        }
      ]
    },
    {
      "cell_type": "markdown",
      "metadata": {
        "id": "KKZaiz-FbBTH",
        "colab_type": "text"
      },
      "source": [
        "#### 模型子类化\n",
        "\n",
        "可以通过构建tf.keras.Model的子类，自己定义前向传播过程和模型，在__init__方法中可以设置类实例的属性，在call方法中可以定义前向传播的过程\n",
        "\n",
        "涉及到类的方法重写"
      ]
    },
    {
      "cell_type": "code",
      "metadata": {
        "id": "DP7KEWAFcyXH",
        "colab_type": "code",
        "colab": {
          "base_uri": "https://localhost:8080/",
          "height": 215
        },
        "outputId": "1c82d83b-6f67-4ae8-f9a7-241fc05cf8d6"
      },
      "source": [
        "class MyModel(tf.keras.Model):\n",
        "  # 定义自己的模型\n",
        "  def __init__(self, num_classes=10):\n",
        "    super().__init__(name='my_model')\n",
        "    self.num_classes = num_classes\n",
        "    self.layer1 = layers.Dense(32, activation='relu')\n",
        "    self.layer2 = layers.Dense(num_classes, activation='softmax')\n",
        "  # 定义前向传播过程\n",
        "  def call(self, inputs):\n",
        "    h1 = self.layer1(inputs)\n",
        "    out = self.layer2(h1)\n",
        "    return out\n",
        "  # 获取输出的shape\n",
        "  def compute_output_shape(self, input_shape):\n",
        "    shape = tf.TensorShape(input_shape).as_list()\n",
        "    shape[-1] = self.num_classes\n",
        "    return tf.tf.TensorShape(shape)\n",
        "  \n",
        "model = MyModel(num_classes=10)\n",
        "\n",
        "model.compile(optimizer=tf.keras.optimizers.RMSprop(0.001),\n",
        "             loss=tf.keras.losses.categorical_crossentropy,\n",
        "             metrics=['accuracy'])\n",
        "\n",
        "model.fit(train_x, train_y, batch_size=16, epochs=5)"
      ],
      "execution_count": 27,
      "outputs": [
        {
          "output_type": "stream",
          "text": [
            "Epoch 1/5\n",
            "1000/1000 [==============================] - 0s 156us/sample - loss: 16.4664 - acc: 0.1020\n",
            "Epoch 2/5\n",
            "1000/1000 [==============================] - 0s 77us/sample - loss: 23.9011 - acc: 0.1020\n",
            "Epoch 3/5\n",
            "1000/1000 [==============================] - 0s 77us/sample - loss: 29.0692 - acc: 0.1060\n",
            "Epoch 4/5\n",
            "1000/1000 [==============================] - 0s 83us/sample - loss: 32.8826 - acc: 0.0980\n",
            "Epoch 5/5\n",
            "1000/1000 [==============================] - 0s 76us/sample - loss: 35.9737 - acc: 0.1060\n"
          ],
          "name": "stdout"
        },
        {
          "output_type": "execute_result",
          "data": {
            "text/plain": [
              "<tensorflow.python.keras.callbacks.History at 0x7f89dc93ee10>"
            ]
          },
          "metadata": {
            "tags": []
          },
          "execution_count": 27
        }
      ]
    },
    {
      "cell_type": "markdown",
      "metadata": {
        "id": "T8WS38SppQrD",
        "colab_type": "text"
      },
      "source": [
        "#### 自定义层\n",
        "\n",
        "类似于上面对于Model的子类化，可以通过对于layers.Layers的子类化来自定义自己的层，一般包括：\n",
        "1. build：创建层的权重。使用 add_weight 方法添加权重\n",
        "2. call：定义前向传播\n",
        "3. compute_output_shape：指定在给定输入形状的情况下如何计算层的输出形状。 或者，可以通过实现 get_config 方法和 from_config 类方法序列化层\n",
        "\n",
        "涉及到类的方法的重写"
      ]
    },
    {
      "cell_type": "code",
      "metadata": {
        "id": "wJFo0aoVpIDk",
        "colab_type": "code",
        "colab": {
          "base_uri": "https://localhost:8080/",
          "height": 289
        },
        "outputId": "5099f7ad-4c4f-4c6d-df13-12b0597f727f"
      },
      "source": [
        "class MyLayer(layers.Layer):\n",
        "  \n",
        "  def __init__(self, output_dim, **kwargs):\n",
        "    self.output_dim = output_dim\n",
        "    super().__init__(**kwargs)\n",
        "  # 创造层的权重\n",
        "  def build(self, input_shape):\n",
        "    shape = tf.TensorShape((input_shape[1], self.output_dim))\n",
        "    self.kernel = self.add_weight(name='kernel1', shape=shape,\n",
        "                                 initializer='uniform', trainable=True)\n",
        "    super().build(input_shape)\n",
        "  # 前向传播\n",
        "  def call(self, inputs):\n",
        "    return tf.matmul(inputs, self.kernel)\n",
        "  # 输出形状计算\n",
        "  def compute_output_shape(self, input_shape):\n",
        "    shape = tf.TensorShape(input_shape).as_list()\n",
        "    shape[-1] = self.output_dim\n",
        "    return tf.TensorShape(shape)\n",
        "  # 获取层的config\n",
        "  def get_config(self):\n",
        "    base_config = super().get_config()\n",
        "    base_config['output_dim'] = self.output_dim\n",
        "    return base_config\n",
        "  # 从config实例化层\n",
        "  @classmethod\n",
        "  def from_config(cls, config):\n",
        "    return cls(**config)\n",
        "\n",
        "model = tf.keras.Sequential([\n",
        "    MyLayer(10),\n",
        "    layers.Activation('softmax')\n",
        "])\n",
        "\n",
        "model.compile(optimizer=tf.keras.optimizers.RMSprop(0.001),\n",
        "             loss=tf.keras.losses.categorical_crossentropy,\n",
        "             metrics=['accuracy'])\n",
        "\n",
        "model.fit(train_x, train_y, batch_size=16, epochs=5)"
      ],
      "execution_count": 32,
      "outputs": [
        {
          "output_type": "stream",
          "text": [
            "W0707 14:52:14.135005 140231248828288 deprecation.py:506] From /usr/local/lib/python3.6/dist-packages/tensorflow/python/keras/initializers.py:119: calling RandomUniform.__init__ (from tensorflow.python.ops.init_ops) with dtype is deprecated and will be removed in a future version.\n",
            "Instructions for updating:\n",
            "Call initializer instance with the dtype argument instead of passing it to the constructor\n"
          ],
          "name": "stderr"
        },
        {
          "output_type": "stream",
          "text": [
            "Epoch 1/5\n",
            "1000/1000 [==============================] - 0s 119us/sample - loss: 11.5639 - acc: 0.1130\n",
            "Epoch 2/5\n",
            "1000/1000 [==============================] - 0s 69us/sample - loss: 11.5628 - acc: 0.1080\n",
            "Epoch 3/5\n",
            "1000/1000 [==============================] - 0s 73us/sample - loss: 11.5630 - acc: 0.1150\n",
            "Epoch 4/5\n",
            "1000/1000 [==============================] - 0s 72us/sample - loss: 11.5625 - acc: 0.1070\n",
            "Epoch 5/5\n",
            "1000/1000 [==============================] - 0s 70us/sample - loss: 11.5628 - acc: 0.1090\n"
          ],
          "name": "stdout"
        },
        {
          "output_type": "execute_result",
          "data": {
            "text/plain": [
              "<tensorflow.python.keras.callbacks.History at 0x7f89dc57b780>"
            ]
          },
          "metadata": {
            "tags": []
          },
          "execution_count": 32
        }
      ]
    },
    {
      "cell_type": "markdown",
      "metadata": {
        "id": "Ae0iFhHR6-sv",
        "colab_type": "text"
      },
      "source": [
        "#### 回调\n",
        "\n",
        "在模型训练的过程中(即model.fit过程中)，我们可以增加回调函数，来增加一些方法(可以用已有的，可以自己写)，例如已有的EarlyStopping方法用于防止过拟合，Tensorboard方法用于增加Tensorboard的log信息"
      ]
    },
    {
      "cell_type": "code",
      "metadata": {
        "id": "24Lb1GE57Z-z",
        "colab_type": "code",
        "colab": {
          "base_uri": "https://localhost:8080/",
          "height": 233
        },
        "outputId": "17d54dfc-d73e-441a-cc35-0e7f190174af"
      },
      "source": [
        "callbacks = [\n",
        "    tf.keras.callbacks.EarlyStopping(patience=2, monitor='val_loss'),\n",
        "    tf.keras.callbacks.TensorBoard(log_dir='./logs')\n",
        "]\n",
        "\n",
        "model.fit(train_x, train_y, batch_size=32, epochs=5,\n",
        "          callbacks=callbacks, validation_data=(val_x, val_y))"
      ],
      "execution_count": 33,
      "outputs": [
        {
          "output_type": "stream",
          "text": [
            "Train on 1000 samples, validate on 200 samples\n",
            "Epoch 1/5\n",
            "1000/1000 [==============================] - 0s 140us/sample - loss: 11.5620 - acc: 0.1110 - val_loss: 11.6872 - val_acc: 0.1150\n",
            "Epoch 2/5\n",
            "1000/1000 [==============================] - 0s 47us/sample - loss: 11.5617 - acc: 0.1110 - val_loss: 11.6882 - val_acc: 0.1200\n",
            "Epoch 3/5\n",
            "1000/1000 [==============================] - 0s 47us/sample - loss: 11.5626 - acc: 0.1120 - val_loss: 11.6865 - val_acc: 0.1300\n",
            "Epoch 4/5\n",
            "1000/1000 [==============================] - 0s 48us/sample - loss: 11.5619 - acc: 0.1100 - val_loss: 11.6855 - val_acc: 0.1100\n",
            "Epoch 5/5\n",
            "1000/1000 [==============================] - 0s 46us/sample - loss: 11.5612 - acc: 0.1070 - val_loss: 11.6856 - val_acc: 0.1250\n"
          ],
          "name": "stdout"
        },
        {
          "output_type": "execute_result",
          "data": {
            "text/plain": [
              "<tensorflow.python.keras.callbacks.History at 0x7f89e8c8b320>"
            ]
          },
          "metadata": {
            "tags": []
          },
          "execution_count": 33
        }
      ]
    },
    {
      "cell_type": "markdown",
      "metadata": {
        "id": "e-QdEkUI8EVf",
        "colab_type": "text"
      },
      "source": [
        "### 模型的保存和恢复"
      ]
    }
  ]
}